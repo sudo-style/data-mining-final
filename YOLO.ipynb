{
 "cells": [
  {
   "cell_type": "code",
   "execution_count": null,
   "metadata": {},
   "outputs": [
    {
     "name": "stdout",
     "output_type": "stream",
     "text": [
      "['n02097658-silky_terrier', 'n02092002-Scottish_deerhound', 'n02099849-Chesapeake_Bay_retriever', 'n02091244-Ibizan_hound', 'n02095314-wire-haired_fox_terrier', 'n02091831-Saluki', 'n02102318-cocker_spaniel', 'n02104365-schipperke', 'n02090622-borzoi', 'n02113023-Pembroke', 'n02105505-komondor', 'n02093256-Staffordshire_bullterrier', 'n02113799-standard_poodle', 'n02109961-Eskimo_dog', 'n02089973-English_foxhound', 'n02099601-golden_retriever', 'n02095889-Sealyham_terrier', 'n02085782-Japanese_spaniel', '.DS_Store', 'n02097047-miniature_schnauzer', 'n02110063-malamute', 'n02105162-malinois', 'n02086079-Pekinese', 'n02097130-giant_schnauzer', 'n02113978-Mexican_hairless', 'n02107142-Doberman', 'n02097209-standard_schnauzer', 'n02115913-dhole', 'n02106662-German_shepherd', 'n02106382-Bouvier_des_Flandres', 'n02110185-Siberian_husky', 'n02094258-Norwich_terrier', 'n02093991-Irish_terrier', 'n02094114-Norfolk_terrier', 'n02109525-Saint_Bernard', 'n02093754-Border_terrier', 'n02105251-briard', 'n02108551-Tibetan_mastiff', 'n02108422-bull_mastiff', 'n02085936-Maltese_dog', 'n02093859-Kerry_blue_terrier', 'n02104029-kuvasz', 'n02107574-Greater_Swiss_Mountain_dog', 'n02095570-Lakeland_terrier', 'n02086646-Blenheim_spaniel', 'n02088238-basset', 'n02098286-West_Highland_white_terrier', 'n02085620-Chihuahua', 'n02106166-Border_collie', 'n02090379-redbone', 'n02090721-Irish_wolfhound', 'n02088632-bluetick', 'n02113712-miniature_poodle', 'n02113186-Cardigan', 'n02108000-EntleBucher', 'n02091467-Norwegian_elkhound', 'n02100236-German_short-haired_pointer', 'n02107683-Bernese_mountain_dog', 'n02086910-papillon', 'n02097474-Tibetan_terrier', 'n02101006-Gordon_setter', 'n02093428-American_Staffordshire_terrier', 'n02100583-vizsla', 'n02105412-kelpie', 'n02092339-Weimaraner', 'n02107312-miniature_pinscher', 'n02108089-boxer', 'n02112137-chow', 'n02105641-Old_English_sheepdog', 'n02110958-pug', 'n02087394-Rhodesian_ridgeback', 'n02097298-Scotch_terrier', 'n02086240-Shih-Tzu', 'n02110627-affenpinscher', 'n02091134-whippet', 'n02102480-Sussex_spaniel', 'n02091635-otterhound', 'n02099267-flat-coated_retriever', 'n02100735-English_setter', 'n02091032-Italian_greyhound', 'n02099712-Labrador_retriever', 'n02106030-collie', 'n02096177-cairn', 'n02106550-Rottweiler', 'n02096294-Australian_terrier', 'n02087046-toy_terrier', 'n02105855-Shetland_sheepdog', 'n02116738-African_hunting_dog', 'n02111277-Newfoundland', 'n02089867-Walker_hound', 'n02098413-Lhasa', 'n02088364-beagle', 'n02111889-Samoyed', 'n02109047-Great_Dane', 'n02096051-Airedale', 'n02088466-bloodhound', 'n02100877-Irish_setter', 'n02112350-keeshond', 'n02096437-Dandie_Dinmont', 'n02110806-basenji', 'n02093647-Bedlington_terrier', 'n02107908-Appenzeller', 'n02101556-clumber', 'n02113624-toy_poodle', 'n02111500-Great_Pyrenees', 'n02102040-English_springer', 'n02088094-Afghan_hound', 'n02101388-Brittany_spaniel', 'n02102177-Welsh_springer_spaniel', 'n02096585-Boston_bull', 'n02115641-dingo', 'n02098105-soft-coated_wheaten_terrier', 'n02099429-curly-coated_retriever', 'n02108915-French_bulldog', 'n02102973-Irish_water_spaniel', 'n02112018-Pomeranian', 'n02112706-Brabancon_griffon', 'n02094433-Yorkshire_terrier', 'n02105056-groenendael', 'n02111129-Leonberg', 'n02089078-black-and-tan_coonhound']\n",
      "['silky_terrier', 'Scottish_deerhound', 'Chesapeake_Bay_retriever', 'Ibizan_hound', 'wire-haired_fox_terrier', 'Saluki', 'cocker_spaniel', 'schipperke', 'borzoi', 'Pembroke', 'komondor', 'Staffordshire_bullterrier', 'standard_poodle', 'Eskimo_dog', 'English_foxhound', 'golden_retriever', 'Sealyham_terrier', 'Japanese_spaniel', 'miniature_schnauzer', 'malamute', 'malinois', 'Pekinese', 'giant_schnauzer', 'Mexican_hairless', 'Doberman', 'standard_schnauzer', 'dhole', 'German_shepherd', 'Bouvier_des_Flandres', 'Siberian_husky', 'Norwich_terrier', 'Irish_terrier', 'Norfolk_terrier', 'Saint_Bernard', 'Border_terrier', 'briard', 'Tibetan_mastiff', 'bull_mastiff', 'Maltese_dog', 'Kerry_blue_terrier', 'kuvasz', 'Greater_Swiss_Mountain_dog', 'Lakeland_terrier', 'Blenheim_spaniel', 'basset', 'West_Highland_white_terrier', 'Chihuahua', 'Border_collie', 'redbone', 'Irish_wolfhound', 'bluetick', 'miniature_poodle', 'Cardigan', 'EntleBucher', 'Norwegian_elkhound', 'German_short-haired_pointer', 'Bernese_mountain_dog', 'papillon', 'Tibetan_terrier', 'Gordon_setter', 'American_Staffordshire_terrier', 'vizsla', 'kelpie', 'Weimaraner', 'miniature_pinscher', 'boxer', 'chow', 'Old_English_sheepdog', 'pug', 'Rhodesian_ridgeback', 'Scotch_terrier', 'Shih-Tzu', 'affenpinscher', 'whippet', 'Sussex_spaniel', 'otterhound', 'flat-coated_retriever', 'English_setter', 'Italian_greyhound', 'Labrador_retriever', 'collie', 'cairn', 'Rottweiler', 'Australian_terrier', 'toy_terrier', 'Shetland_sheepdog', 'African_hunting_dog', 'Newfoundland', 'Walker_hound', 'Lhasa', 'beagle', 'Samoyed', 'Great_Dane', 'Airedale', 'bloodhound', 'Irish_setter', 'keeshond', 'Dandie_Dinmont', 'basenji', 'Bedlington_terrier', 'Appenzeller', 'clumber', 'toy_poodle', 'Great_Pyrenees', 'English_springer', 'Afghan_hound', 'Brittany_spaniel', 'Welsh_springer_spaniel', 'Boston_bull', 'dingo', 'soft-coated_wheaten_terrier', 'curly-coated_retriever', 'French_bulldog', 'Irish_water_spaniel', 'Pomeranian', 'Brabancon_griffon', 'Yorkshire_terrier', 'groenendael', 'Leonberg', 'black-and-tan_coonhound']\n",
      "120\n"
     ]
    },
    {
     "data": {
      "text/plain": [
       "'\\nfor annotation in os.listdir(ANNOTATIONS_DIR):\\n    print(annotation)\\n    for folder in os.listdir(os.path.join(ANNOTATIONS_DIR, annotation)):\\n        print(folder)\\n        for file in os.listdir(os.path.join(ANNOTATIONS_DIR, annotation, folder)):\\n            print(file)\\n\\n            #if file.endswith(\".xml\"):\\n            tree = ET.parse(os.path.join(ANNOTATIONS_DIR, annotation, folder, file))\\n            root = tree.getroot()\\n            for obj in root.findall(\"object\"):\\n                name = obj.find(\"name\").text\\n                if name not in CLASSES:\\n                    CLASSES.append(name)'"
      ]
     },
     "execution_count": 8,
     "metadata": {},
     "output_type": "execute_result"
    }
   ],
   "source": [
    "import os\n",
    "import xml.etree.ElementTree as ET\n",
    "from sklearn.model_selection import train_test_split\n",
    "\n",
    "# Define paths\n",
    "ROOT_DIR = \"pets\"\n",
    "ANNOTATIONS_DIR = os.path.join(ROOT_DIR, \"Annotation\")\n",
    "IMAGES_DIR = os.path.join(ROOT_DIR, \"Images\")\n",
    "YOLO_LABELS_DIR = os.path.join(ROOT_DIR, \"yolo-labels\")\n",
    "\n",
    "# Create labels directory if not exists\n",
    "os.makedirs(YOLO_LABELS_DIR, exist_ok=True)\n",
    "\n",
    "CLASSES = []\n",
    "print(os.listdir(ANNOTATIONS_DIR))\n",
    "folders = os.listdir(ANNOTATIONS_DIR)\n",
    "\n",
    "for folder in folders:\n",
    "    if folder == \".DS_Store\": continue\n",
    "    files = os.listdir(os.path.join(ANNOTATIONS_DIR, folder))\n",
    "    for file in files:\n",
    "        tree = ET.parse(os.path.join(ANNOTATIONS_DIR, folder, file))\n",
    "        root = tree.getroot()\n",
    "        for obj in root.findall(\"object\"):\n",
    "            name = obj.find(\"name\").text\n",
    "            if name not in CLASSES:\n",
    "                CLASSES.append(name)\n",
    "print(CLASSES)\n",
    "print(len(CLASSES)) # 120"
   ]
  },
  {
   "cell_type": "code",
   "execution_count": null,
   "metadata": {},
   "outputs": [
    {
     "name": "stdout",
     "output_type": "stream",
     "text": [
      "Dataset preparation complete!\n"
     ]
    }
   ],
   "source": [
    "def convert_annotation(xml_file, class_name, img_width, img_height):\n",
    "    \"\"\"Convert a single XML annotation to YOLO format.\"\"\"\n",
    "    tree = ET.parse(xml_file)\n",
    "    root = tree.getroot()\n",
    "    \n",
    "    label_file_content = []\n",
    "    for obj in root.findall(\"object\"):\n",
    "        object_name = obj.find(\"name\").text\n",
    "        if object_name != class_name:  # Skip objects that don't match the current class\n",
    "            continue\n",
    "        \n",
    "        class_id = CLASSES.index(object_name)  # Get the class index\n",
    "        bbox = obj.find(\"bndbox\")\n",
    "        \n",
    "        xmin = int(bbox.find(\"xmin\").text)\n",
    "        ymin = int(bbox.find(\"ymin\").text)\n",
    "        xmax = int(bbox.find(\"xmax\").text)\n",
    "        ymax = int(bbox.find(\"ymax\").text)\n",
    "        \n",
    "        # Convert to YOLO format\n",
    "        x_center = ((xmin + xmax) / 2) / img_width\n",
    "        y_center = ((ymin + ymax) / 2) / img_height\n",
    "        width = (xmax - xmin) / img_width\n",
    "        height = (ymax - ymin) / img_height\n",
    "        \n",
    "        label_file_content.append(f\"{class_id} {x_center:.6f} {y_center:.6f} {width:.6f} {height:.6f}\")\n",
    "    \n",
    "    return \"\\n\".join(label_file_content)\n",
    "\n",
    "# Process annotations\n",
    "image_paths = []\n",
    "for class_folder in os.listdir(ANNOTATIONS_DIR):\n",
    "    class_folder_path = os.path.join(ANNOTATIONS_DIR, class_folder)\n",
    "    \n",
    "    if not os.path.isdir(class_folder_path):\n",
    "        continue\n",
    "    \n",
    "    # Iterate through XML files in each class folder\n",
    "    for xml_filename in os.listdir(class_folder_path):\n",
    "        #if not xml_filename.endswith(\".xml\"): continue\n",
    "        \n",
    "        xml_path = os.path.join(class_folder_path, xml_filename)\n",
    "        class_name = class_folder.split(\"-\")[1]  # Assuming class folder name follows 'n02085620-Chihuahua' format\n",
    "        txt_filename = xml_filename.replace(\".xml\", \".txt\")\n",
    "        txt_path = os.path.join(YOLO_LABELS_DIR, txt_filename)\n",
    "        \n",
    "        # Extract image size from XML\n",
    "        tree = ET.parse(xml_path)\n",
    "        root = tree.getroot()\n",
    "        img_width = int(root.find(\"size/width\").text)\n",
    "        img_height = int(root.find(\"size/height\").text)\n",
    "        \n",
    "        # Convert and save\n",
    "        yolo_data = convert_annotation(xml_path, class_name, img_width, img_height)\n",
    "        with open(txt_path, \"w\") as f:\n",
    "            f.write(yolo_data)\n",
    "        \n",
    "        # Store image path for splitting\n",
    "        image_name = xml_filename.replace(\".xml\", \".jpg\")  # Assuming image format is .jpg\n",
    "        image_paths.append(os.path.join(IMAGES_DIR, class_folder, image_name))\n",
    "\n",
    "# Split dataset into training and validation sets\n",
    "train_images, val_images = train_test_split(image_paths, test_size=0.2, random_state=42)\n",
    "\n",
    "# Write image paths to train.txt and val.txt\n",
    "with open(os.path.join(ROOT_DIR, \"train.txt\"), \"w\") as f:\n",
    "    f.writelines(f\"{img}\\n\" for img in train_images)\n",
    "with open(os.path.join(ROOT_DIR, \"val.txt\"), \"w\") as f:\n",
    "    f.writelines(f\"{img}\\n\" for img in val_images)\n",
    "\n",
    "# Create data.yaml\n",
    "import yaml\n",
    "with open(os.path.join(ROOT_DIR, \"data.yaml\"), \"w\") as f:\n",
    "    yaml_content = {\n",
    "        'train': os.path.join(ROOT_DIR, \"train.txt\"),\n",
    "        'val': os.path.join(ROOT_DIR, \"val.txt\"),\n",
    "        'nc': len(CLASSES),\n",
    "        'names': CLASSES\n",
    "    }\n",
    "    yaml.dump(yaml_content, f)\n",
    "\n",
    "print(\"Dataset preparation complete!\")"
   ]
  },
  {
   "cell_type": "code",
   "execution_count": 12,
   "metadata": {},
   "outputs": [
    {
     "name": "stdout",
     "output_type": "stream",
     "text": [
      "train.txt and val.txt created successfully!\n"
     ]
    }
   ],
   "source": [
    "import os\n",
    "from sklearn.model_selection import train_test_split\n",
    "\n",
    "ROOT_DIR = \"pets\"\n",
    "IMAGES_DIR = os.path.join(ROOT_DIR, \"Images\")\n",
    "\n",
    "# Initialize an empty list to hold image paths\n",
    "image_paths = []\n",
    "\n",
    "# Loop through class folders and their images\n",
    "for class_folder in os.listdir(IMAGES_DIR):\n",
    "    class_folder_path = os.path.join(IMAGES_DIR, class_folder)\n",
    "    \n",
    "    # Make sure it's a directory (class folder)\n",
    "    if os.path.isdir(class_folder_path):\n",
    "        # Get all image paths for the current class\n",
    "        for img_filename in os.listdir(class_folder_path):\n",
    "            if img_filename.endswith(\".jpg\"):\n",
    "                img_path = os.path.join(class_folder_path, img_filename)\n",
    "                image_paths.append(img_path)\n",
    "\n",
    "# Split into train and val sets\n",
    "train_images, val_images = train_test_split(image_paths, test_size=0.2, random_state=42)\n",
    "\n",
    "# Write paths to train.txt and val.txt\n",
    "with open(os.path.join(ROOT_DIR, \"train.txt\"), \"w\") as f:\n",
    "    f.writelines(f\"{p}\\n\" for p in train_images)\n",
    "with open(os.path.join(ROOT_DIR, \"val.txt\"), \"w\") as f:\n",
    "    f.writelines(f\"{p}\\n\" for p in val_images)\n",
    "\n",
    "print(\"train.txt and val.txt created successfully!\")"
   ]
  }
 ],
 "metadata": {
  "kernelspec": {
   "display_name": "Python 3",
   "language": "python",
   "name": "python3"
  },
  "language_info": {
   "codemirror_mode": {
    "name": "ipython",
    "version": 3
   },
   "file_extension": ".py",
   "mimetype": "text/x-python",
   "name": "python",
   "nbconvert_exporter": "python",
   "pygments_lexer": "ipython3",
   "version": "3.10.2"
  }
 },
 "nbformat": 4,
 "nbformat_minor": 2
}
